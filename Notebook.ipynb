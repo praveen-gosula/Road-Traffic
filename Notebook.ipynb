{
 "cells": [
  {
   "cell_type": "code",
   "execution_count": 74,
   "metadata": {
    "id": "LZdTCfNs7mA9"
   },
   "outputs": [],
   "source": [
    "import numpy as np\n",
    "import pandas as pd\n",
    "import seaborn as sns\n",
    "import matplotlib.pyplot as plt\n",
    "from sklearn.metrics import accuracy_score, f1_score, precision_score, recall_score, classification_report, confusion_matrix\n",
    "from sklearn.model_selection import cross_val_score, GridSearchCV, RandomizedSearchCV\n",
    "from keras.wrappers.scikit_learn import KerasClassifier\n",
    "from sklearn.model_selection import StratifiedKFold\n",
    "from sklearn.model_selection import train_test_split\n",
    "from sklearn.metrics import f1_score\n",
    "from keras.utils.np_utils import to_categorical\n",
    "from sklearn.utils import class_weight\n",
    "from sklearn.metrics import log_loss\n",
    "from tensorflow.keras import layers\n",
    "from tensorflow.keras.models import Sequential\n",
    "from tensorflow.keras.layers import Dense\n",
    "from tensorflow.keras.models import Model, load_model\n",
    "from tensorflow.keras.utils import to_categorical\n",
    "from tensorflow.keras.layers import Dropout\n",
    "from tensorflow.keras.layers import Flatten\n",
    "from tensorflow.keras.layers import Conv1D\n",
    "from tensorflow.keras.layers import MaxPooling1D"
   ]
  },
  {
   "cell_type": "code",
   "execution_count": 75,
   "metadata": {},
   "outputs": [],
   "source": [
    "column_names = ['id','time','latitude','longitude','direction','road','trafficStatus','avgVehicleSpeed','vehicleFlowRate','trafficConcentration','intervehicularDistance','delay','populationDensity','transmissionPower','levelOfService']"
   ]
  },
  {
   "cell_type": "code",
   "execution_count": 76,
   "metadata": {
    "id": "gzR7jgVWEJos"
   },
   "outputs": [],
   "source": [
    "train_df=pd.read_csv('data_final.csv', names = column_names,sep=';')"
   ]
  },
  {
   "cell_type": "code",
   "execution_count": 77,
   "metadata": {},
   "outputs": [],
   "source": [
    "train_df= train_df.dropna()"
   ]
  },
  {
   "cell_type": "code",
   "execution_count": 78,
   "metadata": {},
   "outputs": [
    {
     "name": "stdout",
     "output_type": "stream",
     "text": [
      "<class 'pandas.core.frame.DataFrame'>\n",
      "Int64Index: 130742 entries, 0 to 149948\n",
      "Data columns (total 15 columns):\n",
      " #   Column                  Non-Null Count   Dtype  \n",
      "---  ------                  --------------   -----  \n",
      " 0   id                      130742 non-null  object \n",
      " 1   time                    130742 non-null  object \n",
      " 2   latitude                130742 non-null  float64\n",
      " 3   longitude               130742 non-null  float64\n",
      " 4   direction               130742 non-null  object \n",
      " 5   road                    130742 non-null  object \n",
      " 6   trafficStatus           130742 non-null  object \n",
      " 7   avgVehicleSpeed         130742 non-null  float64\n",
      " 8   vehicleFlowRate         130742 non-null  int64  \n",
      " 9   trafficConcentration    130742 non-null  float64\n",
      " 10  intervehicularDistance  130742 non-null  int64  \n",
      " 11  delay                   130742 non-null  int64  \n",
      " 12  populationDensity       130742 non-null  int64  \n",
      " 13  transmissionPower       130742 non-null  int64  \n",
      " 14  levelOfService          130742 non-null  object \n",
      "dtypes: float64(4), int64(5), object(6)\n",
      "memory usage: 16.0+ MB\n"
     ]
    }
   ],
   "source": [
    "train_df.info()"
   ]
  },
  {
   "cell_type": "code",
   "execution_count": 79,
   "metadata": {},
   "outputs": [
    {
     "data": {
      "text/html": [
       "<div>\n",
       "<style scoped>\n",
       "    .dataframe tbody tr th:only-of-type {\n",
       "        vertical-align: middle;\n",
       "    }\n",
       "\n",
       "    .dataframe tbody tr th {\n",
       "        vertical-align: top;\n",
       "    }\n",
       "\n",
       "    .dataframe thead th {\n",
       "        text-align: right;\n",
       "    }\n",
       "</style>\n",
       "<table border=\"1\" class=\"dataframe\">\n",
       "  <thead>\n",
       "    <tr style=\"text-align: right;\">\n",
       "      <th></th>\n",
       "      <th>id</th>\n",
       "      <th>time</th>\n",
       "      <th>latitude</th>\n",
       "      <th>longitude</th>\n",
       "      <th>direction</th>\n",
       "      <th>road</th>\n",
       "      <th>trafficStatus</th>\n",
       "      <th>avgVehicleSpeed</th>\n",
       "      <th>vehicleFlowRate</th>\n",
       "      <th>trafficConcentration</th>\n",
       "      <th>intervehicularDistance</th>\n",
       "      <th>delay</th>\n",
       "      <th>populationDensity</th>\n",
       "      <th>transmissionPower</th>\n",
       "      <th>levelOfService</th>\n",
       "    </tr>\n",
       "  </thead>\n",
       "  <tbody>\n",
       "    <tr>\n",
       "      <th>0</th>\n",
       "      <td>A1.GT.24538</td>\n",
       "      <td>2019-11-19T07:39:00.000+01:00</td>\n",
       "      <td>49.667915</td>\n",
       "      <td>6.377110</td>\n",
       "      <td>outboundFromTown</td>\n",
       "      <td>A1</td>\n",
       "      <td>freeFlow</td>\n",
       "      <td>127.0</td>\n",
       "      <td>313</td>\n",
       "      <td>0.0</td>\n",
       "      <td>10</td>\n",
       "      <td>2</td>\n",
       "      <td>30</td>\n",
       "      <td>27</td>\n",
       "      <td>C</td>\n",
       "    </tr>\n",
       "    <tr>\n",
       "      <th>1</th>\n",
       "      <td>A1.GT.26600</td>\n",
       "      <td>2019-11-19T07:39:00.000+01:00</td>\n",
       "      <td>49.679363</td>\n",
       "      <td>6.399515</td>\n",
       "      <td>outboundFromTown</td>\n",
       "      <td>A1</td>\n",
       "      <td>freeFlow</td>\n",
       "      <td>120.0</td>\n",
       "      <td>448</td>\n",
       "      <td>1.0</td>\n",
       "      <td>8</td>\n",
       "      <td>5</td>\n",
       "      <td>22</td>\n",
       "      <td>19</td>\n",
       "      <td>A</td>\n",
       "    </tr>\n",
       "    <tr>\n",
       "      <th>4</th>\n",
       "      <td>A1.GT.15400</td>\n",
       "      <td>2019-11-19T07:39:00.000+01:00</td>\n",
       "      <td>49.640390</td>\n",
       "      <td>6.263833</td>\n",
       "      <td>outboundFromTown</td>\n",
       "      <td>A1</td>\n",
       "      <td>freeFlow</td>\n",
       "      <td>109.0</td>\n",
       "      <td>274</td>\n",
       "      <td>0.0</td>\n",
       "      <td>11</td>\n",
       "      <td>6</td>\n",
       "      <td>20</td>\n",
       "      <td>28</td>\n",
       "      <td>B</td>\n",
       "    </tr>\n",
       "    <tr>\n",
       "      <th>5</th>\n",
       "      <td>A1.TTHOG.2009</td>\n",
       "      <td>2019-11-19T07:39:00.000+01:00</td>\n",
       "      <td>49.578068</td>\n",
       "      <td>6.150946</td>\n",
       "      <td>inboundTowardsTown</td>\n",
       "      <td>A1</td>\n",
       "      <td>freeFlow</td>\n",
       "      <td>86.0</td>\n",
       "      <td>2171</td>\n",
       "      <td>10.0</td>\n",
       "      <td>11</td>\n",
       "      <td>1</td>\n",
       "      <td>25</td>\n",
       "      <td>23</td>\n",
       "      <td>C</td>\n",
       "    </tr>\n",
       "    <tr>\n",
       "      <th>6</th>\n",
       "      <td>A1.TG.16951</td>\n",
       "      <td>2019-11-19T07:39:00.000+01:00</td>\n",
       "      <td>49.643085</td>\n",
       "      <td>6.284836</td>\n",
       "      <td>inboundTowardsTown</td>\n",
       "      <td>A1</td>\n",
       "      <td>impossible</td>\n",
       "      <td>29.0</td>\n",
       "      <td>3206</td>\n",
       "      <td>2.0</td>\n",
       "      <td>11</td>\n",
       "      <td>2</td>\n",
       "      <td>22</td>\n",
       "      <td>21</td>\n",
       "      <td>F</td>\n",
       "    </tr>\n",
       "  </tbody>\n",
       "</table>\n",
       "</div>"
      ],
      "text/plain": [
       "              id                           time   latitude  longitude  \\\n",
       "0    A1.GT.24538  2019-11-19T07:39:00.000+01:00  49.667915   6.377110   \n",
       "1    A1.GT.26600  2019-11-19T07:39:00.000+01:00  49.679363   6.399515   \n",
       "4    A1.GT.15400  2019-11-19T07:39:00.000+01:00  49.640390   6.263833   \n",
       "5  A1.TTHOG.2009  2019-11-19T07:39:00.000+01:00  49.578068   6.150946   \n",
       "6    A1.TG.16951  2019-11-19T07:39:00.000+01:00  49.643085   6.284836   \n",
       "\n",
       "            direction road trafficStatus  avgVehicleSpeed  vehicleFlowRate  \\\n",
       "0    outboundFromTown   A1      freeFlow            127.0              313   \n",
       "1    outboundFromTown   A1      freeFlow            120.0              448   \n",
       "4    outboundFromTown   A1      freeFlow            109.0              274   \n",
       "5  inboundTowardsTown   A1      freeFlow             86.0             2171   \n",
       "6  inboundTowardsTown   A1    impossible             29.0             3206   \n",
       "\n",
       "   trafficConcentration  intervehicularDistance  delay  populationDensity  \\\n",
       "0                   0.0                      10      2                 30   \n",
       "1                   1.0                       8      5                 22   \n",
       "4                   0.0                      11      6                 20   \n",
       "5                  10.0                      11      1                 25   \n",
       "6                   2.0                      11      2                 22   \n",
       "\n",
       "   transmissionPower levelOfService  \n",
       "0                 27              C  \n",
       "1                 19              A  \n",
       "4                 28              B  \n",
       "5                 23              C  \n",
       "6                 21              F  "
      ]
     },
     "execution_count": 79,
     "metadata": {},
     "output_type": "execute_result"
    }
   ],
   "source": [
    "train_df.head()"
   ]
  },
  {
   "cell_type": "code",
   "execution_count": 80,
   "metadata": {},
   "outputs": [
    {
     "data": {
      "text/plain": [
       "freeFlow      95537\n",
       "congested     32253\n",
       "unknown        1596\n",
       "impossible     1356\n",
       "Name: trafficStatus, dtype: int64"
      ]
     },
     "execution_count": 80,
     "metadata": {},
     "output_type": "execute_result"
    }
   ],
   "source": [
    "train_df['trafficStatus'].value_counts()"
   ]
  },
  {
   "cell_type": "code",
   "execution_count": 81,
   "metadata": {},
   "outputs": [
    {
     "data": {
      "text/plain": [
       "freeFlow     95537\n",
       "congested    32253\n",
       "Name: trafficStatus, dtype: int64"
      ]
     },
     "execution_count": 81,
     "metadata": {},
     "output_type": "execute_result"
    }
   ],
   "source": [
    "mistakes = ['unknown', 'impossible']\n",
    "train_df = train_df[train_df.trafficStatus.isin(mistakes) == False]\n",
    "train_df['trafficStatus'].value_counts()"
   ]
  },
  {
   "cell_type": "code",
   "execution_count": 82,
   "metadata": {},
   "outputs": [
    {
     "data": {
      "text/plain": [
       "<AxesSubplot:xlabel='trafficStatus', ylabel='count'>"
      ]
     },
     "execution_count": 82,
     "metadata": {},
     "output_type": "execute_result"
    },
    {
     "data": {
      "image/png": "[encoded data removed]",
      "text/plain": [
       "<Figure size 432x288 with 1 Axes>"
      ]
     },
     "metadata": {
      "needs_background": "light"
     },
     "output_type": "display_data"
    }
   ],
   "source": [
    "import seaborn as sns\n",
    "sns.countplot(x=\"trafficStatus\", data = train_df)"
   ]
  },
  {
   "cell_type": "code",
   "execution_count": 83,
   "metadata": {},
   "outputs": [
    {
     "data": {
      "text/plain": [
       "inboundTowardsTown    65392\n",
       "outboundFromTown      62398\n",
       "Name: direction, dtype: int64"
      ]
     },
     "execution_count": 83,
     "metadata": {},
     "output_type": "execute_result"
    }
   ],
   "source": [
    "train_df['direction'].value_counts()"
   ]
  },
  {
   "cell_type": "code",
   "execution_count": 84,
   "metadata": {},
   "outputs": [
    {
     "data": {
      "text/plain": [
       "<AxesSubplot:xlabel='direction', ylabel='count'>"
      ]
     },
     "execution_count": 84,
     "metadata": {},
     "output_type": "execute_result"
    },
    {
     "data": {
      "image/png": "[encoded data removed]",
      "text/plain": [
       "<Figure size 432x288 with 1 Axes>"
      ]
     },
     "metadata": {
      "needs_background": "light"
     },
     "output_type": "display_data"
    }
   ],
   "source": [
    "sns.countplot(x=\"direction\", data = train_df)"
   ]
  },
  {
   "cell_type": "code",
   "execution_count": 85,
   "metadata": {},
   "outputs": [
    {
     "data": {
      "text/plain": [
       "['id',\n",
       " 'time',\n",
       " 'latitude',\n",
       " 'longitude',\n",
       " 'direction',\n",
       " 'road',\n",
       " 'trafficStatus',\n",
       " 'avgVehicleSpeed',\n",
       " 'vehicleFlowRate',\n",
       " 'trafficConcentration',\n",
       " 'intervehicularDistance',\n",
       " 'delay',\n",
       " 'populationDensity',\n",
       " 'transmissionPower',\n",
       " 'levelOfService']"
      ]
     },
     "execution_count": 85,
     "metadata": {},
     "output_type": "execute_result"
    }
   ],
   "source": [
    "cols = list(train_df.columns.values)\n",
    "cols"
   ]
  },
  {
   "cell_type": "code",
   "execution_count": 86,
   "metadata": {},
   "outputs": [],
   "source": [
    "train_df = train_df[['id','time','latitude','longitude','direction','road','avgVehicleSpeed','vehicleFlowRate','trafficConcentration','intervehicularDistance','delay','populationDensity','transmissionPower','levelOfService','trafficStatus']]"
   ]
  },
  {
   "cell_type": "code",
   "execution_count": 87,
   "metadata": {},
   "outputs": [
    {
     "name": "stdout",
     "output_type": "stream",
     "text": [
      "<class 'pandas.core.frame.DataFrame'>\n",
      "Int64Index: 127790 entries, 0 to 149948\n",
      "Data columns (total 15 columns):\n",
      " #   Column                  Non-Null Count   Dtype  \n",
      "---  ------                  --------------   -----  \n",
      " 0   id                      127790 non-null  object \n",
      " 1   time                    127790 non-null  object \n",
      " 2   latitude                127790 non-null  float64\n",
      " 3   longitude               127790 non-null  float64\n",
      " 4   direction               127790 non-null  object \n",
      " 5   road                    127790 non-null  object \n",
      " 6   avgVehicleSpeed         127790 non-null  float64\n",
      " 7   vehicleFlowRate         127790 non-null  int64  \n",
      " 8   trafficConcentration    127790 non-null  float64\n",
      " 9   intervehicularDistance  127790 non-null  int64  \n",
      " 10  delay                   127790 non-null  int64  \n",
      " 11  populationDensity       127790 non-null  int64  \n",
      " 12  transmissionPower       127790 non-null  int64  \n",
      " 13  levelOfService          127790 non-null  object \n",
      " 14  trafficStatus           127790 non-null  object \n",
      "dtypes: float64(4), int64(5), object(6)\n",
      "memory usage: 19.6+ MB\n"
     ]
    }
   ],
   "source": [
    "train_df.info()"
   ]
  },
  {
   "cell_type": "code",
   "execution_count": 101,
   "metadata": {},
   "outputs": [
    {
     "data": {
      "text/html": [
       "<div>\n",
       "<style scoped>\n",
       "    .dataframe tbody tr th:only-of-type {\n",
       "        vertical-align: middle;\n",
       "    }\n",
       "\n",
       "    .dataframe tbody tr th {\n",
       "        vertical-align: top;\n",
       "    }\n",
       "\n",
       "    .dataframe thead th {\n",
       "        text-align: right;\n",
       "    }\n",
       "</style>\n",
       "<table border=\"1\" class=\"dataframe\">\n",
       "  <thead>\n",
       "    <tr style=\"text-align: right;\">\n",
       "      <th></th>\n",
       "      <th>id</th>\n",
       "      <th>time</th>\n",
       "      <th>latitude</th>\n",
       "      <th>longitude</th>\n",
       "      <th>direction</th>\n",
       "      <th>road</th>\n",
       "      <th>avgVehicleSpeed</th>\n",
       "      <th>vehicleFlowRate</th>\n",
       "      <th>trafficConcentration</th>\n",
       "      <th>intervehicularDistance</th>\n",
       "      <th>delay</th>\n",
       "      <th>populationDensity</th>\n",
       "      <th>transmissionPower</th>\n",
       "      <th>levelOfService</th>\n",
       "      <th>trafficStatus</th>\n",
       "    </tr>\n",
       "  </thead>\n",
       "  <tbody>\n",
       "    <tr>\n",
       "      <th>0</th>\n",
       "      <td>A1.GT.24538</td>\n",
       "      <td>2019-11-19T07:39:00.000+01:00</td>\n",
       "      <td>49.667915</td>\n",
       "      <td>6.377110</td>\n",
       "      <td>1</td>\n",
       "      <td>0</td>\n",
       "      <td>127.0</td>\n",
       "      <td>313</td>\n",
       "      <td>0.0</td>\n",
       "      <td>10</td>\n",
       "      <td>2</td>\n",
       "      <td>30</td>\n",
       "      <td>27</td>\n",
       "      <td>2</td>\n",
       "      <td>1</td>\n",
       "    </tr>\n",
       "    <tr>\n",
       "      <th>1</th>\n",
       "      <td>A1.GT.26600</td>\n",
       "      <td>2019-11-19T07:39:00.000+01:00</td>\n",
       "      <td>49.679363</td>\n",
       "      <td>6.399515</td>\n",
       "      <td>1</td>\n",
       "      <td>0</td>\n",
       "      <td>120.0</td>\n",
       "      <td>448</td>\n",
       "      <td>1.0</td>\n",
       "      <td>8</td>\n",
       "      <td>5</td>\n",
       "      <td>22</td>\n",
       "      <td>19</td>\n",
       "      <td>0</td>\n",
       "      <td>1</td>\n",
       "    </tr>\n",
       "    <tr>\n",
       "      <th>4</th>\n",
       "      <td>A1.GT.15400</td>\n",
       "      <td>2019-11-19T07:39:00.000+01:00</td>\n",
       "      <td>49.640390</td>\n",
       "      <td>6.263833</td>\n",
       "      <td>1</td>\n",
       "      <td>0</td>\n",
       "      <td>109.0</td>\n",
       "      <td>274</td>\n",
       "      <td>0.0</td>\n",
       "      <td>11</td>\n",
       "      <td>6</td>\n",
       "      <td>20</td>\n",
       "      <td>28</td>\n",
       "      <td>1</td>\n",
       "      <td>1</td>\n",
       "    </tr>\n",
       "    <tr>\n",
       "      <th>5</th>\n",
       "      <td>A1.TTHOG.2009</td>\n",
       "      <td>2019-11-19T07:39:00.000+01:00</td>\n",
       "      <td>49.578068</td>\n",
       "      <td>6.150946</td>\n",
       "      <td>0</td>\n",
       "      <td>0</td>\n",
       "      <td>86.0</td>\n",
       "      <td>2171</td>\n",
       "      <td>10.0</td>\n",
       "      <td>11</td>\n",
       "      <td>1</td>\n",
       "      <td>25</td>\n",
       "      <td>23</td>\n",
       "      <td>2</td>\n",
       "      <td>1</td>\n",
       "    </tr>\n",
       "    <tr>\n",
       "      <th>7</th>\n",
       "      <td>A1.TG.880</td>\n",
       "      <td>2019-11-19T07:39:00.000+01:00</td>\n",
       "      <td>49.574917</td>\n",
       "      <td>6.136453</td>\n",
       "      <td>0</td>\n",
       "      <td>0</td>\n",
       "      <td>86.0</td>\n",
       "      <td>2203</td>\n",
       "      <td>13.0</td>\n",
       "      <td>11</td>\n",
       "      <td>4</td>\n",
       "      <td>23</td>\n",
       "      <td>19</td>\n",
       "      <td>0</td>\n",
       "      <td>1</td>\n",
       "    </tr>\n",
       "  </tbody>\n",
       "</table>\n",
       "</div>"
      ],
      "text/plain": [
       "              id                           time   latitude  longitude  \\\n",
       "0    A1.GT.24538  2019-11-19T07:39:00.000+01:00  49.667915   6.377110   \n",
       "1    A1.GT.26600  2019-11-19T07:39:00.000+01:00  49.679363   6.399515   \n",
       "4    A1.GT.15400  2019-11-19T07:39:00.000+01:00  49.640390   6.263833   \n",
       "5  A1.TTHOG.2009  2019-11-19T07:39:00.000+01:00  49.578068   6.150946   \n",
       "7      A1.TG.880  2019-11-19T07:39:00.000+01:00  49.574917   6.136453   \n",
       "\n",
       "   direction  road  avgVehicleSpeed  vehicleFlowRate  trafficConcentration  \\\n",
       "0          1     0            127.0              313                   0.0   \n",
       "1          1     0            120.0              448                   1.0   \n",
       "4          1     0            109.0              274                   0.0   \n",
       "5          0     0             86.0             2171                  10.0   \n",
       "7          0     0             86.0             2203                  13.0   \n",
       "\n",
       "   intervehicularDistance  delay  populationDensity  transmissionPower  \\\n",
       "0                      10      2                 30                 27   \n",
       "1                       8      5                 22                 19   \n",
       "4                      11      6                 20                 28   \n",
       "5                      11      1                 25                 23   \n",
       "7                      11      4                 23                 19   \n",
       "\n",
       "   levelOfService  trafficStatus  \n",
       "0               2              1  \n",
       "1               0              1  \n",
       "4               1              1  \n",
       "5               2              1  \n",
       "7               0              1  "
      ]
     },
     "execution_count": 101,
     "metadata": {},
     "output_type": "execute_result"
    }
   ],
   "source": [
    "from sklearn import preprocessing\n",
    "  \n",
    "# label_encoder object knows how to understand word labels.\n",
    "label_encoder = preprocessing.LabelEncoder()\n",
    "  \n",
    "# Encode labels in column 'species'.\n",
    "train_df['direction']= label_encoder.fit_transform(train_df['direction'])\n",
    "train_df['road']= label_encoder.fit_transform(train_df['road'])\n",
    "train_df['levelOfService']= label_encoder.fit_transform(train_df['levelOfService'])\n",
    "\n",
    "train_df['trafficStatus']= label_encoder.fit_transform(train_df['trafficStatus'])\n",
    "\n",
    "train_df['direction'].unique()\n",
    "train_df['road'].unique()\n",
    "train_df['levelOfService'].unique()\n",
    "train_df['trafficStatus'].unique()\n",
    "train_df.head()"
   ]
  },
  {
   "cell_type": "code",
   "execution_count": 102,
   "metadata": {},
   "outputs": [
    {
     "data": {
      "text/plain": [
       "1    95537\n",
       "0    32253\n",
       "Name: trafficStatus, dtype: int64"
      ]
     },
     "execution_count": 102,
     "metadata": {},
     "output_type": "execute_result"
    }
   ],
   "source": [
    "train_df['trafficStatus'].value_counts()"
   ]
  },
  {
   "cell_type": "code",
   "execution_count": 103,
   "metadata": {},
   "outputs": [
    {
     "name": "stdout",
     "output_type": "stream",
     "text": [
      "(127790, 15)\n"
     ]
    }
   ],
   "source": [
    "print(train_df.shape)"
   ]
  },
  {
   "cell_type": "markdown",
   "metadata": {
    "id": "xIOHloxSK1Gd"
   },
   "source": [
    "Reshape X_train and X_test to 3D since Conv1D requires 3D data"
   ]
  },
  {
   "cell_type": "code",
   "execution_count": 104,
   "metadata": {},
   "outputs": [],
   "source": [
    "X = train_df.iloc[:, 2:14]\n",
    "y = train_df.iloc[:,14]"
   ]
  },
  {
   "cell_type": "code",
   "execution_count": 105,
   "metadata": {},
   "outputs": [
    {
     "data": {
      "text/html": [
       "<div>\n",
       "<style scoped>\n",
       "    .dataframe tbody tr th:only-of-type {\n",
       "        vertical-align: middle;\n",
       "    }\n",
       "\n",
       "    .dataframe tbody tr th {\n",
       "        vertical-align: top;\n",
       "    }\n",
       "\n",
       "    .dataframe thead th {\n",
       "        text-align: right;\n",
       "    }\n",
       "</style>\n",
       "<table border=\"1\" class=\"dataframe\">\n",
       "  <thead>\n",
       "    <tr style=\"text-align: right;\">\n",
       "      <th></th>\n",
       "      <th>latitude</th>\n",
       "      <th>longitude</th>\n",
       "      <th>direction</th>\n",
       "      <th>road</th>\n",
       "      <th>avgVehicleSpeed</th>\n",
       "      <th>vehicleFlowRate</th>\n",
       "      <th>trafficConcentration</th>\n",
       "      <th>intervehicularDistance</th>\n",
       "      <th>delay</th>\n",
       "      <th>populationDensity</th>\n",
       "      <th>transmissionPower</th>\n",
       "      <th>levelOfService</th>\n",
       "    </tr>\n",
       "  </thead>\n",
       "  <tbody>\n",
       "    <tr>\n",
       "      <th>0</th>\n",
       "      <td>49.667915</td>\n",
       "      <td>6.377110</td>\n",
       "      <td>1</td>\n",
       "      <td>0</td>\n",
       "      <td>127.0</td>\n",
       "      <td>313</td>\n",
       "      <td>0.0</td>\n",
       "      <td>10</td>\n",
       "      <td>2</td>\n",
       "      <td>30</td>\n",
       "      <td>27</td>\n",
       "      <td>2</td>\n",
       "    </tr>\n",
       "    <tr>\n",
       "      <th>1</th>\n",
       "      <td>49.679363</td>\n",
       "      <td>6.399515</td>\n",
       "      <td>1</td>\n",
       "      <td>0</td>\n",
       "      <td>120.0</td>\n",
       "      <td>448</td>\n",
       "      <td>1.0</td>\n",
       "      <td>8</td>\n",
       "      <td>5</td>\n",
       "      <td>22</td>\n",
       "      <td>19</td>\n",
       "      <td>0</td>\n",
       "    </tr>\n",
       "    <tr>\n",
       "      <th>4</th>\n",
       "      <td>49.640390</td>\n",
       "      <td>6.263833</td>\n",
       "      <td>1</td>\n",
       "      <td>0</td>\n",
       "      <td>109.0</td>\n",
       "      <td>274</td>\n",
       "      <td>0.0</td>\n",
       "      <td>11</td>\n",
       "      <td>6</td>\n",
       "      <td>20</td>\n",
       "      <td>28</td>\n",
       "      <td>1</td>\n",
       "    </tr>\n",
       "    <tr>\n",
       "      <th>5</th>\n",
       "      <td>49.578068</td>\n",
       "      <td>6.150946</td>\n",
       "      <td>0</td>\n",
       "      <td>0</td>\n",
       "      <td>86.0</td>\n",
       "      <td>2171</td>\n",
       "      <td>10.0</td>\n",
       "      <td>11</td>\n",
       "      <td>1</td>\n",
       "      <td>25</td>\n",
       "      <td>23</td>\n",
       "      <td>2</td>\n",
       "    </tr>\n",
       "    <tr>\n",
       "      <th>7</th>\n",
       "      <td>49.574917</td>\n",
       "      <td>6.136453</td>\n",
       "      <td>0</td>\n",
       "      <td>0</td>\n",
       "      <td>86.0</td>\n",
       "      <td>2203</td>\n",
       "      <td>13.0</td>\n",
       "      <td>11</td>\n",
       "      <td>4</td>\n",
       "      <td>23</td>\n",
       "      <td>19</td>\n",
       "      <td>0</td>\n",
       "    </tr>\n",
       "    <tr>\n",
       "      <th>...</th>\n",
       "      <td>...</td>\n",
       "      <td>...</td>\n",
       "      <td>...</td>\n",
       "      <td>...</td>\n",
       "      <td>...</td>\n",
       "      <td>...</td>\n",
       "      <td>...</td>\n",
       "      <td>...</td>\n",
       "      <td>...</td>\n",
       "      <td>...</td>\n",
       "      <td>...</td>\n",
       "      <td>...</td>\n",
       "    </tr>\n",
       "    <tr>\n",
       "      <th>149944</th>\n",
       "      <td>49.495125</td>\n",
       "      <td>5.944604</td>\n",
       "      <td>0</td>\n",
       "      <td>6</td>\n",
       "      <td>73.0</td>\n",
       "      <td>419</td>\n",
       "      <td>1.0</td>\n",
       "      <td>3</td>\n",
       "      <td>10</td>\n",
       "      <td>16</td>\n",
       "      <td>16</td>\n",
       "      <td>5</td>\n",
       "    </tr>\n",
       "    <tr>\n",
       "      <th>149945</th>\n",
       "      <td>49.493904</td>\n",
       "      <td>5.947297</td>\n",
       "      <td>1</td>\n",
       "      <td>6</td>\n",
       "      <td>62.0</td>\n",
       "      <td>500</td>\n",
       "      <td>1.0</td>\n",
       "      <td>1</td>\n",
       "      <td>14</td>\n",
       "      <td>18</td>\n",
       "      <td>14</td>\n",
       "      <td>4</td>\n",
       "    </tr>\n",
       "    <tr>\n",
       "      <th>149946</th>\n",
       "      <td>49.493960</td>\n",
       "      <td>5.947337</td>\n",
       "      <td>0</td>\n",
       "      <td>6</td>\n",
       "      <td>59.0</td>\n",
       "      <td>390</td>\n",
       "      <td>2.0</td>\n",
       "      <td>4</td>\n",
       "      <td>12</td>\n",
       "      <td>18</td>\n",
       "      <td>14</td>\n",
       "      <td>3</td>\n",
       "    </tr>\n",
       "    <tr>\n",
       "      <th>149947</th>\n",
       "      <td>49.495060</td>\n",
       "      <td>5.944498</td>\n",
       "      <td>1</td>\n",
       "      <td>6</td>\n",
       "      <td>67.0</td>\n",
       "      <td>533</td>\n",
       "      <td>1.0</td>\n",
       "      <td>3</td>\n",
       "      <td>15</td>\n",
       "      <td>18</td>\n",
       "      <td>20</td>\n",
       "      <td>3</td>\n",
       "    </tr>\n",
       "    <tr>\n",
       "      <th>149948</th>\n",
       "      <td>49.497500</td>\n",
       "      <td>5.942809</td>\n",
       "      <td>1</td>\n",
       "      <td>6</td>\n",
       "      <td>69.0</td>\n",
       "      <td>532</td>\n",
       "      <td>1.0</td>\n",
       "      <td>4</td>\n",
       "      <td>14</td>\n",
       "      <td>29</td>\n",
       "      <td>19</td>\n",
       "      <td>3</td>\n",
       "    </tr>\n",
       "  </tbody>\n",
       "</table>\n",
       "<p>127790 rows × 12 columns</p>\n",
       "</div>"
      ],
      "text/plain": [
       "         latitude  longitude  direction  road  avgVehicleSpeed  \\\n",
       "0       49.667915   6.377110          1     0            127.0   \n",
       "1       49.679363   6.399515          1     0            120.0   \n",
       "4       49.640390   6.263833          1     0            109.0   \n",
       "5       49.578068   6.150946          0     0             86.0   \n",
       "7       49.574917   6.136453          0     0             86.0   \n",
       "...           ...        ...        ...   ...              ...   \n",
       "149944  49.495125   5.944604          0     6             73.0   \n",
       "149945  49.493904   5.947297          1     6             62.0   \n",
       "149946  49.493960   5.947337          0     6             59.0   \n",
       "149947  49.495060   5.944498          1     6             67.0   \n",
       "149948  49.497500   5.942809          1     6             69.0   \n",
       "\n",
       "        vehicleFlowRate  trafficConcentration  intervehicularDistance  delay  \\\n",
       "0                   313                   0.0                      10      2   \n",
       "1                   448                   1.0                       8      5   \n",
       "4                   274                   0.0                      11      6   \n",
       "5                  2171                  10.0                      11      1   \n",
       "7                  2203                  13.0                      11      4   \n",
       "...                 ...                   ...                     ...    ...   \n",
       "149944              419                   1.0                       3     10   \n",
       "149945              500                   1.0                       1     14   \n",
       "149946              390                   2.0                       4     12   \n",
       "149947              533                   1.0                       3     15   \n",
       "149948              532                   1.0                       4     14   \n",
       "\n",
       "        populationDensity  transmissionPower  levelOfService  \n",
       "0                      30                 27               2  \n",
       "1                      22                 19               0  \n",
       "4                      20                 28               1  \n",
       "5                      25                 23               2  \n",
       "7                      23                 19               0  \n",
       "...                   ...                ...             ...  \n",
       "149944                 16                 16               5  \n",
       "149945                 18                 14               4  \n",
       "149946                 18                 14               3  \n",
       "149947                 18                 20               3  \n",
       "149948                 29                 19               3  \n",
       "\n",
       "[127790 rows x 12 columns]"
      ]
     },
     "execution_count": 105,
     "metadata": {},
     "output_type": "execute_result"
    }
   ],
   "source": [
    "X"
   ]
  },
  {
   "cell_type": "code",
   "execution_count": 106,
   "metadata": {},
   "outputs": [],
   "source": [
    "from sklearn.preprocessing import StandardScaler\n",
    "from sklearn.model_selection import train_test_split\n",
    "\n",
    "X_train, X_test, y_train, y_test = train_test_split(X, y, random_state=1)"
   ]
  },
  {
   "cell_type": "code",
   "execution_count": 107,
   "metadata": {
    "id": "01b41vXdFwKK"
   },
   "outputs": [],
   "source": [
    "X_train = X_train.values\n",
    "X_test = X_test.values\n",
    "\n",
    "X_train = X_train.reshape(-1, X_train.shape[1],1)\n",
    "X_test = X_test.reshape(-1, X_test.shape[1],1)"
   ]
  },
  {
   "cell_type": "code",
   "execution_count": 108,
   "metadata": {
    "colab": {
     "base_uri": "https://localhost:8080/"
    },
    "id": "Ys6QLpQqIzp5",
    "outputId": "8c09783c-2f76-4932-e374-924da1d6bc95"
   },
   "outputs": [
    {
     "name": "stdout",
     "output_type": "stream",
     "text": [
      "(95842, 12, 1)\n",
      "(31948, 12, 1)\n"
     ]
    }
   ],
   "source": [
    "print(X_train.shape)\n",
    "print(X_test.shape)"
   ]
  },
  {
   "cell_type": "markdown",
   "metadata": {
    "id": "iirR4KQzLEO-"
   },
   "source": [
    "Convert the Target label to categorical"
   ]
  },
  {
   "cell_type": "code",
   "execution_count": 109,
   "metadata": {
    "id": "Tao2fGogFyCf"
   },
   "outputs": [],
   "source": [
    "target_train = y_train\n",
    "target_test = y_test\n",
    "Y_train=to_categorical(target_train)\n",
    "Y_test=to_categorical(target_test)"
   ]
  },
  {
   "cell_type": "code",
   "execution_count": 110,
   "metadata": {
    "colab": {
     "base_uri": "https://localhost:8080/"
    },
    "id": "kU46s9VkJVWL",
    "outputId": "69eb134a-5ef3-4ab1-92f7-cc2e6ed1c1ec"
   },
   "outputs": [
    {
     "name": "stdout",
     "output_type": "stream",
     "text": [
      "(95842, 2)\n",
      "(31948, 2)\n"
     ]
    },
    {
     "data": {
      "text/plain": [
       "array([[0., 1.],\n",
       "       [0., 1.],\n",
       "       [0., 1.],\n",
       "       ...,\n",
       "       [0., 1.],\n",
       "       [0., 1.],\n",
       "       [0., 1.]], dtype=float32)"
      ]
     },
     "execution_count": 110,
     "metadata": {},
     "output_type": "execute_result"
    }
   ],
   "source": [
    "print(Y_train.shape)\n",
    "print(Y_test.shape)\n",
    "Y_train"
   ]
  },
  {
   "cell_type": "markdown",
   "metadata": {
    "id": "Pg_GT3ZKLIHC"
   },
   "source": [
    "Performance Evaluation Function"
   ]
  },
  {
   "cell_type": "code",
   "execution_count": 111,
   "metadata": {
    "id": "CXhKBafzV_g8"
   },
   "outputs": [],
   "source": [
    "def showResults(test, pred):\n",
    "    #target_names = ['positive', 'negative']\n",
    "    # print(classification_report(test, pred, target_names=target_names))\n",
    "    accuracy = accuracy_score(test, pred)\n",
    "    precision=precision_score(test, pred, average='weighted')\n",
    "    f1Score=f1_score(test, pred, average='weighted') \n",
    "    #loss=log_loss(test,pred)\n",
    "    print(\"Accuracy  : {}\".format(accuracy))\n",
    "    print(\"Precision : {}\".format(precision))\n",
    "    print(\"f1Score : {}\".format(f1Score))\n",
    "    #print(\"Loss : {}\".format(loss))\n",
    "    cm=confusion_matrix(test, pred)\n",
    "    print(cm)"
   ]
  },
  {
   "cell_type": "markdown",
   "metadata": {
    "id": "WSKlP9LiHHGd"
   },
   "source": [
    "Model Defination"
   ]
  },
  {
   "cell_type": "markdown",
   "metadata": {
    "id": "tpfEQWDKQnJp"
   },
   "source": [
    "# **Hybrid CNN LSTM**"
   ]
  },
  {
   "cell_type": "code",
   "execution_count": 112,
   "metadata": {
    "colab": {
     "base_uri": "https://localhost:8080/"
    },
    "id": "c25hK2HFNz5S",
    "outputId": "1498eebe-2a95-4b78-d650-2880534320a8"
   },
   "outputs": [
    {
     "name": "stdout",
     "output_type": "stream",
     "text": [
      "Model: \"sequential\"\n",
      "_________________________________________________________________\n",
      "Layer (type)                 Output Shape              Param #   \n",
      "=================================================================\n",
      "conv1d (Conv1D)              (None, 12, 64)            384       \n",
      "_________________________________________________________________\n",
      "max_pooling1d (MaxPooling1D) (None, 11, 64)            0         \n",
      "_________________________________________________________________\n",
      "conv1d_1 (Conv1D)            (None, 11, 32)            6176      \n",
      "_________________________________________________________________\n",
      "max_pooling1d_1 (MaxPooling1 (None, 10, 32)            0         \n",
      "_________________________________________________________________\n",
      "lstm (LSTM)                  (None, 10, 128)           82432     \n",
      "_________________________________________________________________\n",
      "flatten (Flatten)            (None, 1280)              0         \n",
      "_________________________________________________________________\n",
      "dense (Dense)                (None, 128)               163968    \n",
      "_________________________________________________________________\n",
      "dropout (Dropout)            (None, 128)               0         \n",
      "_________________________________________________________________\n",
      "dense_1 (Dense)              (None, 32)                4128      \n",
      "_________________________________________________________________\n",
      "dropout_1 (Dropout)          (None, 32)                0         \n",
      "_________________________________________________________________\n",
      "dense_2 (Dense)              (None, 2)                 66        \n",
      "=================================================================\n",
      "Total params: 257,154\n",
      "Trainable params: 257,154\n",
      "Non-trainable params: 0\n",
      "_________________________________________________________________\n"
     ]
    }
   ],
   "source": [
    "import tensorflow as tf\n",
    "tf.keras.backend.clear_session()\n",
    "\n",
    "model = tf.keras.models.Sequential([\n",
    "    tf.keras.layers.Conv1D(filters=64,kernel_size=5,strides=1,padding=\"causal\",activation=\"relu\",input_shape=(X_train.shape[1],X_train.shape[2])),\n",
    "    tf.keras.layers.MaxPooling1D(pool_size=2, strides=1, padding=\"valid\"),\n",
    "    tf.keras.layers.Conv1D(filters=32, kernel_size=3, strides=1, padding=\"causal\", activation=\"relu\"),\n",
    "    tf.keras.layers.MaxPooling1D(pool_size=2, strides=1, padding=\"valid\"),\n",
    "    tf.keras.layers.LSTM(128, return_sequences=True),\n",
    "    tf.keras.layers.Flatten(),\n",
    "    tf.keras.layers.Dense(128, activation=\"relu\"),\n",
    "    tf.keras.layers.Dropout(0.2),\n",
    "    tf.keras.layers.Dense(32, activation=\"relu\"),\n",
    "    tf.keras.layers.Dropout(0.1),\n",
    "    tf.keras.layers.Dense(2)\n",
    "])\n",
    "\n",
    "lr_schedule = tf.keras.optimizers.schedules.ExponentialDecay(5e-4,\n",
    "                                                             decay_steps=1000000,\n",
    "                                                             decay_rate=0.98,\n",
    "                                                             staircase=False)\n",
    "\n",
    "model.compile(loss=tf.keras.losses.MeanSquaredError(),\n",
    "              optimizer=tf.keras.optimizers.SGD(learning_rate=lr_schedule, momentum=0.8),\n",
    "              metrics=['acc'])\n",
    "model.summary()"
   ]
  },
  {
   "cell_type": "code",
   "execution_count": 113,
   "metadata": {
    "colab": {
     "base_uri": "https://localhost:8080/"
    },
    "id": "hrkM7YeSNz5T",
    "outputId": "5591d0a7-ab22-47c6-8f87-05179ee2aa21"
   },
   "outputs": [
    {
     "name": "stdout",
     "output_type": "stream",
     "text": [
      "Epoch 1/10\n",
      "2996/2996 [==============================] - 34s 11ms/step - loss: 0.0573 - acc: 0.9527\n",
      "Epoch 2/10\n",
      "2996/2996 [==============================] - 43s 14ms/step - loss: 0.0192 - acc: 0.9949\n",
      "Epoch 3/10\n",
      "2996/2996 [==============================] - 43s 14ms/step - loss: 0.0140 - acc: 0.9970\n",
      "Epoch 4/10\n",
      "2996/2996 [==============================] - 42s 14ms/step - loss: 0.0115 - acc: 0.9974\n",
      "Epoch 5/10\n",
      "2996/2996 [==============================] - 42s 14ms/step - loss: 0.0100 - acc: 0.9981\n",
      "Epoch 6/10\n",
      "2996/2996 [==============================] - 42s 14ms/step - loss: 0.0092 - acc: 0.9980\n",
      "Epoch 7/10\n",
      "2996/2996 [==============================] - 43s 14ms/step - loss: 0.0082 - acc: 0.9985\n",
      "Epoch 8/10\n",
      "2996/2996 [==============================] - 42s 14ms/step - loss: 0.0078 - acc: 0.9983\n",
      "Epoch 9/10\n",
      "2996/2996 [==============================] - 43s 14ms/step - loss: 0.0074 - acc: 0.9983\n",
      "Epoch 10/10\n",
      "2996/2996 [==============================] - 42s 14ms/step - loss: 0.0069 - acc: 0.9986\n"
     ]
    }
   ],
   "source": [
    "history = model.fit(X_train, Y_train,epochs=10)"
   ]
  },
  {
   "cell_type": "code",
   "execution_count": 114,
   "metadata": {
    "colab": {
     "base_uri": "https://localhost:8080/",
     "height": 573
    },
    "id": "6iXwLjN0R52X",
    "outputId": "29eb6cdd-3ee9-469f-c9fe-e4590a45456f"
   },
   "outputs": [
    {
     "data": {
      "image/png": "[encoded data removed]",
      "text/plain": [
       "<Figure size 432x288 with 1 Axes>"
      ]
     },
     "metadata": {
      "needs_background": "light"
     },
     "output_type": "display_data"
    },
    {
     "data": {
      "image/png": "[encoded data removed]",
      "text/plain": [
       "<Figure size 432x288 with 1 Axes>"
      ]
     },
     "metadata": {
      "needs_background": "light"
     },
     "output_type": "display_data"
    }
   ],
   "source": [
    "# Plot training & validation loss values\n",
    "plt.plot(history.history['loss'])\n",
    "plt.title('Model loss')\n",
    "plt.ylabel('Loss')\n",
    "plt.xlabel('Epoch')\n",
    "plt.legend(['Train', 'Validation'], loc='upper left')\n",
    "plt.savefig('loss.png', format='png', dpi=1200)\n",
    "plt.show()\n",
    "\n",
    "\n",
    "# Plot training & validation accuracy values\n",
    "plt.plot(history.history['acc'])\n",
    "plt.title('Model accuracy')\n",
    "plt.ylabel('Accuracy')\n",
    "plt.xlabel('Epoch')\n",
    "plt.legend(['Train', 'Validation'], loc='upper left')\n",
    "plt.savefig('accuracy.png', format='png', dpi=1200)\n",
    "plt.show()"
   ]
  },
  {
   "cell_type": "code",
   "execution_count": 115,
   "metadata": {
    "colab": {
     "base_uri": "https://localhost:8080/"
    },
    "id": "D7RvRFv2SXMh",
    "outputId": "86f8aff9-4164-4d27-cf4a-8aaa369a0961"
   },
   "outputs": [
    {
     "name": "stdout",
     "output_type": "stream",
     "text": [
      "999/999 [==============================] - 4s 4ms/step\n"
     ]
    }
   ],
   "source": [
    "predictions = model.predict(X_test, verbose=1)"
   ]
  },
  {
   "cell_type": "code",
   "execution_count": 116,
   "metadata": {},
   "outputs": [
    {
     "data": {
      "text/plain": [
       "array([[0.02260284, 0.9954551 ],\n",
       "       [0.01862024, 0.9703002 ],\n",
       "       [0.0113273 , 0.97841865],\n",
       "       ...,\n",
       "       [0.9842432 , 0.01876891],\n",
       "       [0.97663194, 0.01270163],\n",
       "       [0.02070132, 0.9568423 ]], dtype=float32)"
      ]
     },
     "execution_count": 116,
     "metadata": {},
     "output_type": "execute_result"
    }
   ],
   "source": [
    "predictions"
   ]
  },
  {
   "cell_type": "code",
   "execution_count": 117,
   "metadata": {},
   "outputs": [
    {
     "name": "stdout",
     "output_type": "stream",
     "text": [
      "999/999 [==============================] - 3s 3ms/step - loss: 0.0012 - acc: 1.0000\n"
     ]
    },
    {
     "data": {
      "text/plain": [
       "[0.0012265207478776574, 1.0]"
      ]
     },
     "execution_count": 117,
     "metadata": {},
     "output_type": "execute_result"
    }
   ],
   "source": [
    "model.evaluate(X_test, Y_test)"
   ]
  },
  {
   "cell_type": "code",
   "execution_count": 118,
   "metadata": {},
   "outputs": [],
   "source": [
    "CNNandLSTM_model = model"
   ]
  },
  {
   "cell_type": "code",
   "execution_count": 119,
   "metadata": {
    "colab": {
     "base_uri": "https://localhost:8080/"
    },
    "id": "DchZw6KDSeaE",
    "outputId": "007b9bfe-0abf-4856-8a7a-4e69714214ad"
   },
   "outputs": [
    {
     "name": "stdout",
     "output_type": "stream",
     "text": [
      "Accuracy  : 1.0\n",
      "Precision : 1.0\n",
      "f1Score : 1.0\n",
      "[[ 8198     0]\n",
      " [    0 23750]]\n"
     ]
    }
   ],
   "source": [
    "predictcv=np.argmax(predictions,axis=1)\n",
    "actual_valuecv=np.argmax(Y_test,axis=1)\n",
    "showResults(actual_valuecv, predictcv)"
   ]
  },
  {
   "cell_type": "code",
   "execution_count": 120,
   "metadata": {},
   "outputs": [],
   "source": [
    "hyd = accuracy_score(actual_valuecv, predictcv)\n",
    "f1hyd=f1_score(actual_valuecv, predictcv, average='weighted') "
   ]
  },
  {
   "cell_type": "markdown",
   "metadata": {},
   "source": [
    "# BiLSTM"
   ]
  },
  {
   "cell_type": "code",
   "execution_count": 121,
   "metadata": {},
   "outputs": [],
   "source": [
    "from keras.layers import Dense, Dropout, Embedding, LSTM, Bidirectional"
   ]
  },
  {
   "cell_type": "code",
   "execution_count": 122,
   "metadata": {},
   "outputs": [],
   "source": [
    "from keras.callbacks import EarlyStopping\n",
    "from keras.layers import Activation\n",
    "es=EarlyStopping(patience=7)\n",
    "model=Sequential()\n",
    "model.add(Bidirectional(LSTM(13,input_shape=(X_train.shape[1],X_train.shape[2]))))\n",
    "model.add(Dense(units=2))\n",
    "model.add(Activation('sigmoid'))\n",
    "model.compile(loss=tf.keras.losses.MeanSquaredError(),\n",
    "              optimizer=tf.keras.optimizers.SGD(learning_rate=lr_schedule, momentum=0.8),\n",
    "              metrics=['acc'])"
   ]
  },
  {
   "cell_type": "code",
   "execution_count": 123,
   "metadata": {},
   "outputs": [
    {
     "name": "stdout",
     "output_type": "stream",
     "text": [
      "Epoch 1/10\n",
      "2996/2996 [==============================] - 20s 7ms/step - loss: 0.1974 - acc: 0.7376\n",
      "Epoch 2/10\n",
      "2996/2996 [==============================] - 24s 8ms/step - loss: 0.1782 - acc: 0.7490\n",
      "Epoch 3/10\n",
      "2996/2996 [==============================] - 24s 8ms/step - loss: 0.1667 - acc: 0.7490\n",
      "Epoch 4/10\n",
      "2996/2996 [==============================] - 24s 8ms/step - loss: 0.1532 - acc: 0.7490\n",
      "Epoch 5/10\n",
      "2996/2996 [==============================] - 24s 8ms/step - loss: 0.1380 - acc: 0.7490\n",
      "Epoch 6/10\n",
      "2996/2996 [==============================] - 24s 8ms/step - loss: 0.1217 - acc: 0.7947\n",
      "Epoch 7/10\n",
      "2996/2996 [==============================] - 24s 8ms/step - loss: 0.1049 - acc: 0.8972\n",
      "Epoch 8/10\n",
      "2996/2996 [==============================] - 24s 8ms/step - loss: 0.0884 - acc: 0.9315\n",
      "Epoch 9/10\n",
      "2996/2996 [==============================] - 24s 8ms/step - loss: 0.0731 - acc: 0.9713\n",
      "Epoch 10/10\n",
      "2996/2996 [==============================] - 24s 8ms/step - loss: 0.0576 - acc: 0.9966\n"
     ]
    }
   ],
   "source": [
    "history = model.fit(X_train, Y_train,epochs=10)"
   ]
  },
  {
   "cell_type": "code",
   "execution_count": 124,
   "metadata": {},
   "outputs": [
    {
     "data": {
      "image/png": "[encoded data removed]",
      "text/plain": [
       "<Figure size 432x288 with 1 Axes>"
      ]
     },
     "metadata": {
      "needs_background": "light"
     },
     "output_type": "display_data"
    },
    {
     "data": {
      "image/png": "[encoded data removed]",
      "text/plain": [
       "<Figure size 432x288 with 1 Axes>"
      ]
     },
     "metadata": {
      "needs_background": "light"
     },
     "output_type": "display_data"
    }
   ],
   "source": [
    "# Plot training & validation loss values\n",
    "plt.plot(history.history['loss'])\n",
    "plt.title('Model loss')\n",
    "plt.ylabel('Loss')\n",
    "plt.xlabel('Epoch')\n",
    "plt.legend(['Train', 'Validation'], loc='upper left')\n",
    "plt.savefig('loss.png', format='png', dpi=1200)\n",
    "plt.show()\n",
    "\n",
    "\n",
    "# Plot training & validation accuracy values\n",
    "plt.plot(history.history['acc'])\n",
    "plt.title('Model accuracy')\n",
    "plt.ylabel('Accuracy')\n",
    "plt.xlabel('Epoch')\n",
    "plt.legend(['Train', 'Validation'], loc='upper left')\n",
    "plt.savefig('accuracy.png', format='png', dpi=1200)\n",
    "plt.show()"
   ]
  },
  {
   "cell_type": "code",
   "execution_count": 125,
   "metadata": {},
   "outputs": [
    {
     "name": "stdout",
     "output_type": "stream",
     "text": [
      "999/999 [==============================] - 2s 2ms/step\n"
     ]
    }
   ],
   "source": [
    "predictions = model.predict(X_test, verbose=1)"
   ]
  },
  {
   "cell_type": "code",
   "execution_count": 126,
   "metadata": {},
   "outputs": [
    {
     "name": "stdout",
     "output_type": "stream",
     "text": [
      "999/999 [==============================] - 2s 2ms/step - loss: 0.0511 - acc: 0.9984\n"
     ]
    },
    {
     "data": {
      "text/plain": [
       "[0.05106104165315628, 0.9984349608421326]"
      ]
     },
     "execution_count": 126,
     "metadata": {},
     "output_type": "execute_result"
    }
   ],
   "source": [
    "model.evaluate(X_test, Y_test)"
   ]
  },
  {
   "cell_type": "code",
   "execution_count": 127,
   "metadata": {},
   "outputs": [
    {
     "name": "stdout",
     "output_type": "stream",
     "text": [
      "Accuracy  : 0.9984349568048078\n",
      "Precision : 0.9984382447106801\n",
      "f1Score : 0.9984333860276012\n",
      "[[ 8148    50]\n",
      " [    0 23750]]\n"
     ]
    }
   ],
   "source": [
    "predictcv=np.argmax(predictions,axis=1)\n",
    "actual_valuecv=np.argmax(Y_test,axis=1)\n",
    "showResults(actual_valuecv, predictcv)"
   ]
  },
  {
   "cell_type": "code",
   "execution_count": 128,
   "metadata": {},
   "outputs": [],
   "source": [
    "bilstm = accuracy_score(actual_valuecv, predictcv)\n",
    "f1bilstm=f1_score(actual_valuecv, predictcv, average='weighted') "
   ]
  },
  {
   "cell_type": "markdown",
   "metadata": {},
   "source": [
    "# GRU"
   ]
  },
  {
   "cell_type": "code",
   "execution_count": 129,
   "metadata": {},
   "outputs": [
    {
     "name": "stdout",
     "output_type": "stream",
     "text": [
      "Model: \"sequential_2\"\n",
      "_________________________________________________________________\n",
      "Layer (type)                 Output Shape              Param #   \n",
      "=================================================================\n",
      "gru (GRU)                    (None, 13)                624       \n",
      "_________________________________________________________________\n",
      "dense_4 (Dense)              (None, 2)                 28        \n",
      "_________________________________________________________________\n",
      "activation_1 (Activation)    (None, 2)                 0         \n",
      "=================================================================\n",
      "Total params: 652\n",
      "Trainable params: 652\n",
      "Non-trainable params: 0\n",
      "_________________________________________________________________\n"
     ]
    }
   ],
   "source": [
    "from keras.layers import Dense, Dropout, Embedding, GRU\n",
    "es=EarlyStopping(patience=7)\n",
    "model=Sequential()\n",
    "model.add(GRU(13,input_shape=(X_train.shape[1],X_train.shape[2])))\n",
    "model.add(Dense(units=2))\n",
    "model.add(Activation('sigmoid'))\n",
    "model.compile(loss='squared_hinge',\n",
    "              optimizer=tf.keras.optimizers.SGD(learning_rate=lr_schedule, momentum=0.8),\n",
    "              metrics=['acc'])\n",
    "model.summary()"
   ]
  },
  {
   "cell_type": "code",
   "execution_count": 130,
   "metadata": {},
   "outputs": [
    {
     "name": "stdout",
     "output_type": "stream",
     "text": [
      "Epoch 1/10\n",
      "2996/2996 [==============================] - 17s 6ms/step - loss: 0.8702 - acc: 0.7490\n",
      "Epoch 2/10\n",
      "2996/2996 [==============================] - 22s 7ms/step - loss: 0.7740 - acc: 0.7490\n",
      "Epoch 3/10\n",
      "2996/2996 [==============================] - 22s 8ms/step - loss: 0.7201 - acc: 0.7490\n",
      "Epoch 4/10\n",
      "2996/2996 [==============================] - 22s 7ms/step - loss: 0.6876 - acc: 0.7490: 0s - loss: 0.687\n",
      "Epoch 5/10\n",
      "2996/2996 [==============================] - 23s 8ms/step - loss: 0.6685 - acc: 0.7490\n",
      "Epoch 6/10\n",
      "2996/2996 [==============================] - 23s 8ms/step - loss: 0.6567 - acc: 0.7490\n",
      "Epoch 7/10\n",
      "2996/2996 [==============================] - 23s 8ms/step - loss: 0.6490 - acc: 0.7490\n",
      "Epoch 8/10\n",
      "2996/2996 [==============================] - 23s 8ms/step - loss: 0.6438 - acc: 0.7490\n",
      "Epoch 9/10\n",
      "2996/2996 [==============================] - 23s 8ms/step - loss: 0.6402 - acc: 0.7490\n",
      "Epoch 10/10\n",
      "2996/2996 [==============================] - 23s 8ms/step - loss: 0.6376 - acc: 0.7490\n"
     ]
    }
   ],
   "source": [
    "history = model.fit(X_train, Y_train,epochs=10)"
   ]
  },
  {
   "cell_type": "code",
   "execution_count": 131,
   "metadata": {},
   "outputs": [
    {
     "data": {
      "image/png": "[encoded data removed]",
      "text/plain": [
       "<Figure size 432x288 with 1 Axes>"
      ]
     },
     "metadata": {
      "needs_background": "light"
     },
     "output_type": "display_data"
    },
    {
     "data": {
      "image/png": "[encoded data removed]",
      "text/plain": [
       "<Figure size 432x288 with 1 Axes>"
      ]
     },
     "metadata": {
      "needs_background": "light"
     },
     "output_type": "display_data"
    }
   ],
   "source": [
    "# Plot training & validation loss values\n",
    "plt.plot(history.history['loss'])\n",
    "plt.title('Model loss')\n",
    "plt.ylabel('Loss')\n",
    "plt.xlabel('Epoch')\n",
    "plt.legend(['Train', 'Validation'], loc='upper left')\n",
    "plt.savefig('loss.png', format='png', dpi=1200)\n",
    "plt.show()\n",
    "\n",
    "\n",
    "# Plot training & validation accuracy values\n",
    "plt.plot(history.history['acc'])\n",
    "plt.title('Model accuracy')\n",
    "plt.ylabel('Accuracy')\n",
    "plt.xlabel('Epoch')\n",
    "plt.legend(['Train', 'Validation'], loc='upper left')\n",
    "plt.savefig('accuracy.png', format='png', dpi=1200)\n",
    "plt.show()"
   ]
  },
  {
   "cell_type": "code",
   "execution_count": 132,
   "metadata": {},
   "outputs": [
    {
     "name": "stdout",
     "output_type": "stream",
     "text": [
      "999/999 [==============================] - 2s 2ms/step - loss: 0.6393 - acc: 0.7434\n"
     ]
    },
    {
     "data": {
      "text/plain": [
       "[0.6393243670463562, 0.7433955073356628]"
      ]
     },
     "execution_count": 132,
     "metadata": {},
     "output_type": "execute_result"
    }
   ],
   "source": [
    "model.evaluate(X_test, Y_test)"
   ]
  },
  {
   "cell_type": "code",
   "execution_count": 133,
   "metadata": {},
   "outputs": [
    {
     "name": "stdout",
     "output_type": "stream",
     "text": [
      "999/999 [==============================] - 2s 2ms/step\n",
      "Accuracy  : 0.743395517716289\n",
      "Precision : 0.5526368957606693\n",
      "f1Score : 0.6339776489555051\n",
      "[[    0  8198]\n",
      " [    0 23750]]\n"
     ]
    },
    {
     "name": "stderr",
     "output_type": "stream",
     "text": [
      "C:\\Users\\naveen\\anaconda3\\lib\\site-packages\\sklearn\\metrics\\_classification.py:1221: UndefinedMetricWarning: Precision is ill-defined and being set to 0.0 in labels with no predicted samples. Use `zero_division` parameter to control this behavior.\n",
      "  _warn_prf(average, modifier, msg_start, len(result))\n"
     ]
    }
   ],
   "source": [
    "predictions = model.predict(X_test, verbose=1)\n",
    "predictcv=np.argmax(predictions,axis=1)\n",
    "actual_valuecv=np.argmax(Y_test,axis=1)\n",
    "showResults(actual_valuecv, predictcv)"
   ]
  },
  {
   "cell_type": "code",
   "execution_count": 134,
   "metadata": {},
   "outputs": [],
   "source": [
    "gru = accuracy_score(actual_valuecv, predictcv)\n",
    "f1gru = f1_score(actual_valuecv, predictcv, average='weighted') "
   ]
  },
  {
   "cell_type": "markdown",
   "metadata": {},
   "source": [
    "# Comparison"
   ]
  },
  {
   "cell_type": "code",
   "execution_count": 135,
   "metadata": {},
   "outputs": [
    {
     "data": {
      "image/png": "[encoded data removed]",
      "text/plain": [
       "<Figure size 432x288 with 1 Axes>"
      ]
     },
     "metadata": {
      "needs_background": "light"
     },
     "output_type": "display_data"
    }
   ],
   "source": [
    "import numpy as np\n",
    "import matplotlib.pyplot as plt\n",
    "\n",
    "N = 3\n",
    "ind = np.arange(N)  # the x locations for the groups\n",
    "width = 0.3      # the width of the bars\n",
    "\n",
    "fig = plt.figure()\n",
    "ax = fig.add_subplot(111)\n",
    "\n",
    "yvals = [hyd*100,bilstm*100,gru*100]\n",
    "\n",
    "rects1 = ax.bar(ind, yvals, width, color='r')\n",
    "zvals = [f1hyd*100,f1bilstm*100,f1gru*100]\n",
    "rects2 = ax.bar(ind+width, zvals, width, color='g')\n",
    "\n",
    "\n",
    "ax.set_ylabel('Scores')\n",
    "ax.set_xticks(ind+width)\n",
    "ax.set_xticklabels( ('CNN+LSTM','BiLSTM','GRU') )\n",
    "ax.legend( (rects1[0], rects2[0]), ('Accuracy', 'F1Score') )\n",
    "\n",
    "def autolabel(rects):\n",
    "    for rect in rects:\n",
    "        h = rect.get_height()\n",
    "        ax.text(rect.get_x()+rect.get_width()/2., 1.05*h, '%d'%int(h),\n",
    "                ha='center', va='bottom')\n",
    "\n",
    "autolabel(rects1)\n",
    "autolabel(rects2)\n",
    "\n",
    "plt.show()"
   ]
  },
  {
   "cell_type": "code",
   "execution_count": 136,
   "metadata": {},
   "outputs": [],
   "source": [
    "score = [hyd*100,bilstm*100,gru*100]"
   ]
  },
  {
   "cell_type": "code",
   "execution_count": 137,
   "metadata": {},
   "outputs": [
    {
     "name": "stdout",
     "output_type": "stream",
     "text": [
      "[0 1 2]\n",
      "[100.0, 99.84349568048077, 74.33955177162889]\n"
     ]
    }
   ],
   "source": [
    "#make variabel for save the result and to show it\n",
    "classifier = ('CNN+LSTM','BiLSTM','GRU')\n",
    "y_pos = np.arange(len(classifier))\n",
    "print(y_pos)\n",
    "print(score)"
   ]
  },
  {
   "cell_type": "code",
   "execution_count": 138,
   "metadata": {},
   "outputs": [
    {
     "data": {
      "image/png": "[encoded data removed]",
      "text/plain": [
       "<Figure size 432x288 with 1 Axes>"
      ]
     },
     "metadata": {
      "needs_background": "light"
     },
     "output_type": "display_data"
    }
   ],
   "source": [
    "import matplotlib.pyplot as plt2\n",
    "plt2.barh(y_pos, score, align='center', alpha=0.5,color='blue')\n",
    "plt2.yticks(y_pos, classifier)\n",
    "plt2.xlabel('Score')\n",
    "plt2.title('Classification Performance')\n",
    "plt2.show()"
   ]
  },
  {
   "cell_type": "code",
   "execution_count": 101,
   "metadata": {},
   "outputs": [
    {
     "name": "stderr",
     "output_type": "stream",
     "text": [
      "WARNING:absl:Found untraced functions such as _jit_compiled_convolution_op, _jit_compiled_convolution_op, lstm_cell_layer_call_fn, lstm_cell_layer_call_and_return_conditional_losses while saving (showing 4 of 4). These functions will not be directly callable after loading.\n"
     ]
    },
    {
     "name": "stdout",
     "output_type": "stream",
     "text": [
      "INFO:tensorflow:Assets written to: ram://c9c09f79-36f1-453f-968d-569336d32875/assets\n"
     ]
    },
    {
     "name": "stderr",
     "output_type": "stream",
     "text": [
      "INFO:tensorflow:Assets written to: ram://c9c09f79-36f1-453f-968d-569336d32875/assets\n"
     ]
    },
    {
     "data": {
      "text/plain": [
       "['model.sav']"
      ]
     },
     "execution_count": 101,
     "metadata": {},
     "output_type": "execute_result"
    }
   ],
   "source": [
    "import joblib\n",
    "filename = 'model.sav'\n",
    "joblib.dump(CNNandLSTM_model, filename)"
   ]
  }
 ],
 "metadata": {
  "accelerator": "GPU",
  "colab": {
   "collapsed_sections": [],
   "name": "notebook.ipynb",
   "provenance": []
  },
  "kernelspec": {
   "display_name": "Python 3",
   "language": "python",
   "name": "python3"
  },
  "language_info": {
   "codemirror_mode": {
    "name": "ipython",
    "version": 3
   },
   "file_extension": ".py",
   "mimetype": "text/x-python",
   "name": "python",
   "nbconvert_exporter": "python",
   "pygments_lexer": "ipython3",
   "version": "3.8.8"
  },
  "vscode": {
   "interpreter": {
    "hash": "31f2aee4e71d21fbe5cf8b01ff0e069b9275f58929596ceb00d14d90e3e16cd6"
   }
  }
 },
 "nbformat": 4,
 "nbformat_minor": 1
}
